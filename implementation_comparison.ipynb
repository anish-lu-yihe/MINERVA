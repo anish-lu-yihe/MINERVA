{
 "cells": [
  {
   "cell_type": "markdown",
   "metadata": {},
   "source": [
    "# Comparison implementations of Minerva 2\n",
    "Here I compare my own implementation in `minerva.py` with two other implementations in `alter_wrapper.py`, which is a Python wrapper based on `minerva2.py` and `minerva-al.R` in `alternative_implementations/`."
   ]
  },
  {
   "cell_type": "code",
   "execution_count": 1,
   "metadata": {},
   "outputs": [],
   "source": [
    "import numpy as np\n",
    "import minerva as mine\n",
    "import alter_wrapper as alter"
   ]
  },
  {
   "cell_type": "markdown",
   "metadata": {},
   "source": [
    "## 1. Initialise models\n",
    "We prepare the three models with 5 features per memory trace:"
   ]
  },
  {
   "cell_type": "code",
   "execution_count": 2,
   "metadata": {},
   "outputs": [
    {
     "name": "stdout",
     "output_type": "stream",
     "text": [
      "<minerva.Minerva2 object at 0x0000025191C9C288>\n",
      "<alter_wrapper.model1 object at 0x0000025191C9C2C8>\n",
      "<alter_wrapper.model2 object at 0x0000025191C9C388>\n"
     ]
    },
    {
     "data": {
      "text/plain": [
       "[None, None, None]"
      ]
     },
     "execution_count": 2,
     "metadata": {},
     "output_type": "execute_result"
    }
   ],
   "source": [
    "item_size = 5\n",
    "model = [init_class(item_size) for init_class in [mine.Minerva2, alter.model1, alter.model2]]\n",
    "[print(m) for m in model]"
   ]
  },
  {
   "cell_type": "markdown",
   "metadata": {},
   "source": [
    "## 2. Train models\n",
    "The models can learn individual training samples, one by one:"
   ]
  },
  {
   "cell_type": "code",
   "execution_count": 3,
   "metadata": {},
   "outputs": [
    {
     "name": "stdout",
     "output_type": "stream",
     "text": [
      "[[1. 0. 0. 0. 0.]\n",
      " [1. 1. 1. 1. 1.]]\n",
      "[[1. 0. 0. 0. 0.]\n",
      " [1. 1. 1. 1. 1.]]\n",
      "[[1. 0. 0. 0. 0.]\n",
      " [1. 1. 1. 1. 1.]]\n"
     ]
    }
   ],
   "source": [
    "sample1 = [1,0,0,0,0]\n",
    "sample2 = np.ones(5)\n",
    "for m in model:\n",
    "    m.learn(sample1)\n",
    "    m.learn(sample2)\n",
    "    print(m.get_memory_matrix())"
   ]
  },
  {
   "cell_type": "markdown",
   "metadata": {},
   "source": [
    "They can also learn individual training samples in an aggregated manner:"
   ]
  },
  {
   "cell_type": "code",
   "execution_count": 4,
   "metadata": {},
   "outputs": [
    {
     "name": "stdout",
     "output_type": "stream",
     "text": [
      "[[ 0.  1.  0.  0.  0.]\n",
      " [ 0.  0.  1.  0.  0.]\n",
      " [-1. -1.  0.  0.  0.]\n",
      " [ 0.  0.  0. -1. -1.]]\n",
      "[[ 0  1  0  0  0]\n",
      " [ 0  0  1  0  0]\n",
      " [-1 -1  0  0  0]\n",
      " [ 0  0  0 -1 -1]]\n",
      "[[ 0.  1.  0.  0.  0.]\n",
      " [ 0.  0.  1.  0.  0.]\n",
      " [-1. -1.  0.  0.  0.]\n",
      " [ 0.  0.  0. -1. -1.]]\n"
     ]
    }
   ],
   "source": [
    "samples1 = [[0,1,0,0,0],[0,0,1,0,0]]\n",
    "samples2 = np.array([[-1,-1,0,0,0],[0,0,0,-1,-1]])\n",
    "for m in model:\n",
    "    m.reset() # reset the memory matrix to empty\n",
    "    m.learn(samples1)\n",
    "    m.learn(samples2)\n",
    "    print(m.get_memory_matrix())"
   ]
  },
  {
   "cell_type": "markdown",
   "metadata": {},
   "source": [
    "## 3. Probe models\n",
    "After training, we probe the models and compare their responses:"
   ]
  },
  {
   "cell_type": "code",
   "execution_count": 5,
   "metadata": {},
   "outputs": [
    {
     "name": "stdout",
     "output_type": "stream",
     "text": [
      "[[0.88888889 1.         0.11111111 0.88888889 0.88888889]]\n",
      "[[0.88888889 1.         0.11111111 0.88888889 0.88888889]]\n",
      "[[0.88888889 1.         0.11111111 0.88888889 0.88888889]]\n"
     ]
    }
   ],
   "source": [
    "probe = np.ones(5)\n",
    "for m in model:\n",
    "    echo = m.respond(probe)\n",
    "    print(echo)"
   ]
  },
  {
   "cell_type": "markdown",
   "metadata": {},
   "source": [
    "One can also test the models with multiple probes:"
   ]
  },
  {
   "cell_type": "code",
   "execution_count": 6,
   "metadata": {},
   "outputs": [
    {
     "name": "stdout",
     "output_type": "stream",
     "text": [
      "[[-0.5 -1.   0.   0.   0. ]\n",
      " [ 1.   1.   1.   1.   1. ]]\n",
      "[[-0.5 -1.   0.   0.   0. ]\n",
      " [ 1.   1.   1.   1.   1. ]]\n",
      "[[-0.11111111 -1.          0.          0.          0.        ]\n",
      " [ 0.421875    0.421875    1.          0.421875    0.421875  ]]\n"
     ]
    }
   ],
   "source": [
    "probes = [[0,-1,0,0,0],[1,0,1,0,1]]\n",
    "for m in model:\n",
    "    echos = m.respond(probes)\n",
    "    print(echos)"
   ]
  },
  {
   "cell_type": "markdown",
   "metadata": {},
   "source": [
    "One may note the disagreement between the 3rd model and the first 2 models.\n",
    "\n",
    "Before having a fight, I aslo make sure one can have recurrence of echoes:"
   ]
  },
  {
   "cell_type": "code",
   "execution_count": 7,
   "metadata": {},
   "outputs": [
    {
     "name": "stdout",
     "output_type": "stream",
     "text": [
      "[[-8.66084851e-01 -1.00000000e+00  0.00000000e+00  0.00000000e+00\n",
      "   0.00000000e+00]\n",
      " [ 8.66898651e-01  1.00000000e+00  5.34411088e-38  7.10354179e-02\n",
      "   7.10354179e-02]]\n",
      "[[-8.66084851e-01 -1.00000000e+00  0.00000000e+00  0.00000000e+00\n",
      "   0.00000000e+00]\n",
      " [ 8.66898651e-01  1.00000000e+00  5.34411088e-38  7.10354179e-02\n",
      "   7.10354179e-02]]\n",
      "[[-8.64186666e-01 -1.00000000e+00  0.00000000e+00  0.00000000e+00\n",
      "   0.00000000e+00]\n",
      " [ 8.66898651e-01  1.00000000e+00  1.22458365e-07  7.10354179e-02\n",
      "   7.10354179e-02]]\n"
     ]
    }
   ],
   "source": [
    "recurrence = 5\n",
    "for m in model:\n",
    "    re_echos = m.respond(probes, recurrence)\n",
    "    print(re_echos)"
   ]
  },
  {
   "cell_type": "markdown",
   "metadata": {},
   "source": [
    "It seems that as the recurrence number increases, the difference diminishes.\n",
    "\n",
    "Q: Why do we have the difference in the first place?\n",
    "\n",
    "A: It is likely due to different models are implementing Minerva 2 with slightly different binary similarity measures.\n",
    "\n",
    "## 4. How different are these models?\n",
    "Now I compare these models with 1000 features per memory trace, generate 10 random initial memories for them, and test them with 1000 probes:"
   ]
  },
  {
   "cell_type": "code",
   "execution_count": 8,
   "metadata": {},
   "outputs": [],
   "source": [
    "num_feature = 100\n",
    "bigmodel = [init_class(num_feature) for init_class in [mine.Minerva2, alter.model1, alter.model2]]"
   ]
  },
  {
   "cell_type": "code",
   "execution_count": 9,
   "metadata": {},
   "outputs": [
    {
     "data": {
      "text/plain": [
       "[None, None, None]"
      ]
     },
     "execution_count": 9,
     "metadata": {},
     "output_type": "execute_result"
    }
   ],
   "source": [
    "num_trace = 10\n",
    "training_data = np.random.randint(-1, 2, size = (num_trace, num_feature)) # memory traces are random initialised with -1, 0, 1\n",
    "[m.learn(training_data) for m in bigmodel]"
   ]
  },
  {
   "cell_type": "code",
   "execution_count": 10,
   "metadata": {},
   "outputs": [],
   "source": [
    "num_test = 1000\n",
    "test_data = np.random.uniform(-1, 1, size = (num_test, num_feature)) # test probes are random initialised between -1 and 1"
   ]
  },
  {
   "cell_type": "markdown",
   "metadata": {},
   "source": [
    "To measure the differences, here I add up all differences within each echo (row), and calculate the average difference:"
   ]
  },
  {
   "cell_type": "code",
   "execution_count": 11,
   "metadata": {},
   "outputs": [],
   "source": [
    "nums_rec = [1, 2, 5, 10, 20, 50, 100]\n",
    "differences = []\n",
    "for recurrence in nums_rec:\n",
    "    bigechos = [m.respond(test_data, recurrence) for m in bigmodel]\n",
    "    row_avg_d = [np.mean(np.sum(np.abs(be - bigechos[0]), axis = 1)) for be in bigechos[1:]] # my model gives bigechos[0], which is considered as a baseline\n",
    "    differences.append(row_avg_d)"
   ]
  },
  {
   "cell_type": "code",
   "execution_count": 12,
   "metadata": {},
   "outputs": [],
   "source": [
    "d = np.swapaxes(differences, 0, 1)"
   ]
  },
  {
   "cell_type": "code",
   "execution_count": 15,
   "metadata": {},
   "outputs": [
    {
     "data": {
      "image/png": "[encoded data removed]",
      "text/plain": [
       "<Figure size 1296x864 with 1 Axes>"
      ]
     },
     "metadata": {
      "needs_background": "light"
     },
     "output_type": "display_data"
    }
   ],
   "source": [
    "import matplotlib.pyplot as plt\n",
    "fig, ax = plt.subplots(figsize = (18, 12))\n",
    "[ax.plot(nums_rec, row, label = l, marker = 'x') for row, l in zip(d, ['model1-0', 'model2-0'])]\n",
    "ax.set_title('Comparing model 1 and 2 against model 0')\n",
    "ax.set_xscale('log')\n",
    "ax.set_xlabel('Differences')\n",
    "ax.set_ylabel('Recurrence')\n",
    "ax.legend()\n",
    "ax.grid()"
   ]
  },
  {
   "cell_type": "markdown",
   "metadata": {},
   "source": [
    "There are differences in the implementations concerning the similarity measure. Nonetheless, the differences are quite small."
   ]
  },
  {
   "cell_type": "code",
   "execution_count": null,
   "metadata": {},
   "outputs": [],
   "source": []
  }
 ],
 "metadata": {
  "kernelspec": {
   "display_name": "Python 3",
   "language": "python",
   "name": "python3"
  },
  "language_info": {
   "codemirror_mode": {
    "name": "ipython",
    "version": 3
   },
   "file_extension": ".py",
   "mimetype": "text/x-python",
   "name": "python",
   "nbconvert_exporter": "python",
   "pygments_lexer": "ipython3",
   "version": "3.7.9"
  }
 },
 "nbformat": 4,
 "nbformat_minor": 4
}
